{
 "cells": [
  {
   "cell_type": "markdown",
   "id": "2cdebda8-4890-455d-aa16-33d9c1df2aac",
   "metadata": {},
   "source": [
    " ## Given a list of integers, [1, 2, 3, 4, 5], write a list comprehension that returns a new list where each number is squared, cubed and another one as power of itself."
   ]
  },
  {
   "cell_type": "code",
   "execution_count": 6,
   "id": "e01e8f8a-df88-4712-ae43-9787f3357d27",
   "metadata": {},
   "outputs": [
    {
     "name": "stdout",
     "output_type": "stream",
     "text": [
      "[(1, 1, 1), (4, 8, 4), (9, 27, 27), (16, 64, 256), (25, 125, 3125)]\n"
     ]
    }
   ],
   "source": [
    "numbers = [1, 2, 3, 4, 5]\n",
    "result = [(n**2, n**3, n**n) for n in numbers]\n",
    "print(result)"
   ]
  },
  {
   "cell_type": "markdown",
   "id": "2d257ccf-410b-46b0-b0ef-9e2643355996",
   "metadata": {},
   "source": [
    "## Write a list comprehension that filters out only the even numbers from the list [10, 15, 20, 25, 30, 35]."
   ]
  },
  {
   "cell_type": "code",
   "execution_count": 9,
   "id": "a2812d7b-6d20-4ca6-a635-ad3ff87a311b",
   "metadata": {},
   "outputs": [
    {
     "name": "stdout",
     "output_type": "stream",
     "text": [
      "[10, 20, 30]\n"
     ]
    }
   ],
   "source": [
    "numbers = [10, 15, 20, 25, 30, 35]\n",
    "even_numbers = [n for n in numbers if n % 2 == 0]\n",
    "print(even_numbers)"
   ]
  },
  {
   "cell_type": "markdown",
   "id": "caccd56f-23c5-4be2-9466-39e39797cb22",
   "metadata": {},
   "source": [
    "## Write a list comprehenion/for loop that retuns every 4th vlaue in  range of 1 to 100"
   ]
  },
  {
   "cell_type": "code",
   "execution_count": 12,
   "id": "2af1cdbe-0283-4f89-b53c-1347c89ab801",
   "metadata": {},
   "outputs": [
    {
     "name": "stdout",
     "output_type": "stream",
     "text": [
      "[1, 5, 9, 13, 17, 21, 25, 29, 33, 37, 41, 45, 49, 53, 57, 61, 65, 69, 73, 77, 81, 85, 89, 93, 97]\n"
     ]
    }
   ],
   "source": [
    "fourth_values = []\n",
    "for n in range(1, 101, 4):  # Step by 4 to get every 4th value\n",
    "    fourth_values.append(n)\n",
    "\n",
    "print(fourth_values)"
   ]
  },
  {
   "cell_type": "markdown",
   "id": "89afdab3-b1be-4575-b5a6-eef027972e64",
   "metadata": {},
   "source": [
    "## You have a list of strings, [\"apple\", \"banana\", \"cherry\"]. Write a list comprehension that converts each string to uppercase."
   ]
  },
  {
   "cell_type": "code",
   "execution_count": 15,
   "id": "76b33d35-8697-428c-b684-5421851b92b6",
   "metadata": {},
   "outputs": [
    {
     "name": "stdout",
     "output_type": "stream",
     "text": [
      "['APPLE', 'BANANA', 'CHERRY']\n"
     ]
    }
   ],
   "source": [
    "fruits = [\"apple\", \"banana\", \"cherry\"]\n",
    "uppercase_fruits = [fruit.upper() for fruit in fruits]\n",
    "print(uppercase_fruits)"
   ]
  },
  {
   "cell_type": "markdown",
   "id": "78fbaf64-2eaa-4654-b3bd-a4684116aeae",
   "metadata": {},
   "source": [
    "## Now create a dictionary comprehension  to output the fruit as key and length of each character in the fruit as value"
   ]
  },
  {
   "cell_type": "code",
   "execution_count": 18,
   "id": "f26a9668-4e09-41f4-8dba-d88197409d36",
   "metadata": {},
   "outputs": [
    {
     "name": "stdout",
     "output_type": "stream",
     "text": [
      "{'apple': 5, 'banana': 6, 'cherry': 6}\n"
     ]
    }
   ],
   "source": [
    "fruits = [\"apple\", \"banana\", \"cherry\"]\n",
    "fruit_lengths = {fruit: len(fruit) for fruit in fruits}\n",
    "print(fruit_lengths)"
   ]
  },
  {
   "cell_type": "markdown",
   "id": "1de52128-4daa-47da-833b-92f89fce475f",
   "metadata": {},
   "source": [
    "## Given a list of numbers [1, 2, 3, 4, 5, 6], write a single list comprehension that returns: \"even\" for each even number, and\"odd\" for each odd number.\n"
   ]
  },
  {
   "cell_type": "code",
   "execution_count": 21,
   "id": "9fb12eeb-01a7-47ee-97c4-c4e5e9568cd5",
   "metadata": {},
   "outputs": [
    {
     "name": "stdout",
     "output_type": "stream",
     "text": [
      "['odd', 'even', 'odd', 'even', 'odd', 'even']\n"
     ]
    }
   ],
   "source": [
    "numbers = [1, 2, 3, 4, 5, 6]\n",
    "even_odd = [\"even\" if n % 2 == 0 else \"odd\" for n in numbers]\n",
    "print(even_odd)"
   ]
  },
  {
   "cell_type": "markdown",
   "id": "a2ad9db8-6f83-469c-8f92-0c64c344443d",
   "metadata": {},
   "source": [
    "## Suppose you have a list of words like [\"John\", \"Jane\", \"Erick\", \"Benard\", \"Comprehension\"]. Write a list comprehension that extracts the first letter from each word."
   ]
  },
  {
   "cell_type": "code",
   "execution_count": 24,
   "id": "c80cb2e3-4b32-4276-acc6-57652e314512",
   "metadata": {},
   "outputs": [
    {
     "name": "stdout",
     "output_type": "stream",
     "text": [
      "['J', 'J', 'E', 'B', 'C']\n"
     ]
    }
   ],
   "source": [
    "words = [\"John\", \"Jane\", \"Erick\", \"Benard\", \"Comprehension\"]\n",
    "first_letters = [word[0] for word in words]\n",
    "print(first_letters)"
   ]
  },
  {
   "cell_type": "markdown",
   "id": "170de94f-973d-4928-b955-6f7f66c6431f",
   "metadata": {},
   "source": [
    "## Save the outputs as dictionary using dictionary comprehension to show the name of each individual as key and first charatcer as value"
   ]
  },
  {
   "cell_type": "code",
   "execution_count": 27,
   "id": "5b177196-aa9a-4abf-87d0-ef069b3e133b",
   "metadata": {},
   "outputs": [
    {
     "name": "stdout",
     "output_type": "stream",
     "text": [
      "{'John': 'J', 'Jane': 'J', 'Erick': 'E', 'Benard': 'B', 'Comprehension': 'C'}\n"
     ]
    }
   ],
   "source": [
    "words = [\"John\", \"Jane\", \"Erick\", \"Benard\", \"Comprehension\"]\n",
    "name_first_letter = {word: word[0] for word in words}\n",
    "print(name_first_letter)"
   ]
  },
  {
   "cell_type": "markdown",
   "id": "396a1105-cdd9-4a8e-ab09-ac5e9bfa61d8",
   "metadata": {},
   "source": [
    "## Convert the outputs of number 1 to 5b as functions and test them"
   ]
  },
  {
   "cell_type": "code",
   "execution_count": 30,
   "id": "af70f20a-4c62-4fab-9c1a-dfc1b5c46143",
   "metadata": {},
   "outputs": [
    {
     "name": "stdout",
     "output_type": "stream",
     "text": [
      "[(1, 1, 1), (4, 8, 4), (9, 27, 27), (16, 64, 256), (25, 125, 3125)]\n"
     ]
    }
   ],
   "source": [
    "def power_transform(numbers):\n",
    "    return [(n**2, n**3, n**n) for n in numbers]\n",
    "\n",
    "\n",
    "print(power_transform([1, 2, 3, 4, 5]))"
   ]
  },
  {
   "cell_type": "code",
   "execution_count": 32,
   "id": "41639e36-9b2f-4755-bfd7-4b38d6927323",
   "metadata": {},
   "outputs": [
    {
     "name": "stdout",
     "output_type": "stream",
     "text": [
      "[10, 20, 30]\n"
     ]
    }
   ],
   "source": [
    "def filter_even(numbers):\n",
    "    return [n for n in numbers if n % 2 == 0]\n",
    "\n",
    "print(filter_even([10, 15, 20, 25, 30, 35]))"
   ]
  },
  {
   "cell_type": "code",
   "execution_count": 34,
   "id": "0ec94ea7-41e9-4555-ad5f-80d06376c6e5",
   "metadata": {},
   "outputs": [
    {
     "name": "stdout",
     "output_type": "stream",
     "text": [
      "[1, 5, 9, 13, 17, 21, 25, 29, 33, 37, 41, 45, 49, 53, 57, 61, 65, 69, 73, 77, 81, 85, 89, 93, 97]\n"
     ]
    }
   ],
   "source": [
    "def every_fourth(start=1, end=100):\n",
    "    return [n for n in range(start, end + 1, 4)]\n",
    "\n",
    "print(every_fourth(1, 100))"
   ]
  },
  {
   "cell_type": "code",
   "execution_count": 36,
   "id": "1439df08-c590-4671-b188-dfeb51a38ed6",
   "metadata": {},
   "outputs": [
    {
     "name": "stdout",
     "output_type": "stream",
     "text": [
      "['APPLE', 'BANANA', 'CHERRY']\n"
     ]
    }
   ],
   "source": [
    "def to_uppercase(words):\n",
    "    return [word.upper() for word in words]\n",
    "\n",
    "print(to_uppercase([\"apple\", \"banana\", \"cherry\"]))"
   ]
  },
  {
   "cell_type": "code",
   "execution_count": 38,
   "id": "f89b09c6-b665-4681-bb5c-c655df38916a",
   "metadata": {},
   "outputs": [
    {
     "name": "stdout",
     "output_type": "stream",
     "text": [
      "{'apple': 5, 'banana': 6, 'cherry': 6}\n"
     ]
    }
   ],
   "source": [
    "def word_length_dict(words):\n",
    "    return {word: len(word) for word in words}\n",
    "\n",
    "print(word_length_dict([\"apple\", \"banana\", \"cherry\"]))"
   ]
  },
  {
   "cell_type": "code",
   "execution_count": 40,
   "id": "980b897c-f74f-4eb3-be28-88a5b2774545",
   "metadata": {},
   "outputs": [
    {
     "name": "stdout",
     "output_type": "stream",
     "text": [
      "['odd', 'even', 'odd', 'even', 'odd', 'even']\n"
     ]
    }
   ],
   "source": [
    "def even_odd_label(numbers):\n",
    "    return [\"even\" if n % 2 == 0 else \"odd\" for n in numbers]\n",
    "\n",
    "print(even_odd_label([1, 2, 3, 4, 5, 6]))"
   ]
  },
  {
   "cell_type": "code",
   "execution_count": 42,
   "id": "c3315da2-36ba-49e6-ba33-8b5282ff9753",
   "metadata": {},
   "outputs": [
    {
     "name": "stdout",
     "output_type": "stream",
     "text": [
      "{'John': 'J', 'Jane': 'J', 'Erick': 'E', 'Benard': 'B', 'Comprehension': 'C'}\n"
     ]
    }
   ],
   "source": [
    "def name_first_letter_dict(names):\n",
    "    return {name: name[0] for name in names}\n",
    "\n",
    "print(name_first_letter_dict([\"John\", \"Jane\", \"Erick\", \"Benard\", \"Comprehension\"]))"
   ]
  },
  {
   "cell_type": "markdown",
   "id": "1c06e827-1bcb-4fae-94d9-b58fa9cd45bb",
   "metadata": {},
   "source": [
    "## Using a lists and dictionary of your choice, create  a dictionary containing 4 lists (full name, age, wight, location, gender) of 10 students."
   ]
  },
  {
   "cell_type": "code",
   "execution_count": 45,
   "id": "60d48c1f-7670-4cbc-8f30-4e8280770924",
   "metadata": {},
   "outputs": [
    {
     "name": "stdout",
     "output_type": "stream",
     "text": [
      "{'full_name': ['John Doe', 'Jane Smith', 'Michael Brown', 'Emily Davis', 'Daniel Wilson', 'Sophia Johnson', 'James Lee', 'Olivia Martinez', 'William Anderson', 'Emma Thomas'], 'age': [18, 19, 20, 21, 18, 22, 19, 20, 21, 22], 'weight': [65, 55, 70, 60, 75, 50, 68, 58, 72, 55], 'location': ['Nairobi', 'Mombasa', 'Kisumu', 'Nakuru', 'Eldoret', 'Thika', 'Malindi', 'Nyeri', 'Meru', 'Kitale'], 'gender': ['Male', 'Female', 'Male', 'Female', 'Male', 'Female', 'Male', 'Female', 'Male', 'Female']}\n"
     ]
    }
   ],
   "source": [
    "students_data = {\n",
    "    \"full_name\": [\n",
    "        \"John Doe\", \"Jane Smith\", \"Michael Brown\", \"Emily Davis\", \"Daniel Wilson\",\n",
    "        \"Sophia Johnson\", \"James Lee\", \"Olivia Martinez\", \"William Anderson\", \"Emma Thomas\"\n",
    "    ],\n",
    "    \"age\": [18, 19, 20, 21, 18, 22, 19, 20, 21, 22],\n",
    "    \"weight\": [65, 55, 70, 60, 75, 50, 68, 58, 72, 55],  # In kg\n",
    "    \"location\": [\n",
    "        \"Nairobi\", \"Mombasa\", \"Kisumu\", \"Nakuru\", \"Eldoret\",\n",
    "        \"Thika\", \"Malindi\", \"Nyeri\", \"Meru\", \"Kitale\"\n",
    "    ],\n",
    "    \"gender\": [\"Male\", \"Female\", \"Male\", \"Female\", \"Male\", \"Female\", \"Male\", \"Female\", \"Male\", \"Female\"]\n",
    "}\n",
    "\n",
    "print(students_data)"
   ]
  },
  {
   "cell_type": "markdown",
   "id": "0652a9f4-3910-499f-b56d-3d22f9a7ba93",
   "metadata": {},
   "source": [
    "## Convert the output of number six above into pandas dataframes"
   ]
  },
  {
   "cell_type": "code",
   "execution_count": 48,
   "id": "6f08b431-e984-4973-a752-a3fcd095c95d",
   "metadata": {},
   "outputs": [
    {
     "name": "stdout",
     "output_type": "stream",
     "text": [
      "          full_name  age  weight location  gender\n",
      "0          John Doe   18      65  Nairobi    Male\n",
      "1        Jane Smith   19      55  Mombasa  Female\n",
      "2     Michael Brown   20      70   Kisumu    Male\n",
      "3       Emily Davis   21      60   Nakuru  Female\n",
      "4     Daniel Wilson   18      75  Eldoret    Male\n",
      "5    Sophia Johnson   22      50    Thika  Female\n",
      "6         James Lee   19      68  Malindi    Male\n",
      "7   Olivia Martinez   20      58    Nyeri  Female\n",
      "8  William Anderson   21      72     Meru    Male\n",
      "9       Emma Thomas   22      55   Kitale  Female\n"
     ]
    }
   ],
   "source": [
    "import pandas as pd\n",
    "\n",
    "students_data = {\n",
    "    \"full_name\": [\n",
    "        \"John Doe\", \"Jane Smith\", \"Michael Brown\", \"Emily Davis\", \"Daniel Wilson\",\n",
    "        \"Sophia Johnson\", \"James Lee\", \"Olivia Martinez\", \"William Anderson\", \"Emma Thomas\"\n",
    "    ],\n",
    "    \"age\": [18, 19, 20, 21, 18, 22, 19, 20, 21, 22],\n",
    "    \"weight\": [65, 55, 70, 60, 75, 50, 68, 58, 72, 55],  # In kg\n",
    "    \"location\": [\n",
    "        \"Nairobi\", \"Mombasa\", \"Kisumu\", \"Nakuru\", \"Eldoret\",\n",
    "        \"Thika\", \"Malindi\", \"Nyeri\", \"Meru\", \"Kitale\"\n",
    "    ],\n",
    "    \"gender\": [\"Male\", \"Female\", \"Male\", \"Female\", \"Male\", \"Female\", \"Male\", \"Female\", \"Male\", \"Female\"]\n",
    "}\n",
    "\n",
    "students_df = pd.DataFrame(students_data)\n",
    "\n",
    "\n",
    "print(students_df)"
   ]
  },
  {
   "cell_type": "markdown",
   "id": "fc1de58d-d0f1-4e77-bf5a-f7b31399bc7f",
   "metadata": {},
   "source": [
    "## Now create a new dictionary of key as name of students in number six and value as gender of students using dictionary comprehensions"
   ]
  },
  {
   "cell_type": "code",
   "execution_count": 52,
   "id": "a2a74af5-965c-47ba-a58a-77c5f0e0a074",
   "metadata": {},
   "outputs": [
    {
     "name": "stdout",
     "output_type": "stream",
     "text": [
      "{'John Doe': 'Male', 'Jane Smith': 'Female', 'Michael Brown': 'Male', 'Emily Davis': 'Female', 'Daniel Wilson': 'Male', 'Sophia Johnson': 'Female', 'James Lee': 'Male', 'Olivia Martinez': 'Female', 'William Anderson': 'Male', 'Emma Thomas': 'Female'}\n"
     ]
    }
   ],
   "source": [
    "name_gender_dict = {students_data[\"full_name\"][i]: students_data[\"gender\"][i] for i in range(len(students_data[\"full_name\"]))}\n",
    "\n",
    "print(name_gender_dict)"
   ]
  },
  {
   "cell_type": "code",
   "execution_count": null,
   "id": "2075aeeb-cf2e-4744-861e-cff9d96b60f1",
   "metadata": {},
   "outputs": [],
   "source": [
    "##- "
   ]
  }
 ],
 "metadata": {
  "kernelspec": {
   "display_name": "Python [conda env:base] *",
   "language": "python",
   "name": "conda-base-py"
  },
  "language_info": {
   "codemirror_mode": {
    "name": "ipython",
    "version": 3
   },
   "file_extension": ".py",
   "mimetype": "text/x-python",
   "name": "python",
   "nbconvert_exporter": "python",
   "pygments_lexer": "ipython3",
   "version": "3.12.7"
  }
 },
 "nbformat": 4,
 "nbformat_minor": 5
}
